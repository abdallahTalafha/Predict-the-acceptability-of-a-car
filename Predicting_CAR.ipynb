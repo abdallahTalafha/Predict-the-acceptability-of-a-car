{
 "cells": [
  {
   "cell_type": "markdown",
   "metadata": {},
   "source": [
    "## Problem Statement: \n",
    "\n",
    "Given a set of variables about a car’s condition and some basic information about its price and comfort, how can we predict the car’s acceptability rate and decide if the cars needs to be sold as junk (or) if the car is in acceptable condition and can be reused with some new/modified parts (or) if the car is in good condition and can be reused with minor repairs (or) if the car is in very good condition and can be sold to a pre-owned dealer or to potential buyers. This is a supervised learning classification multi-class classification problem. The input variables of the data set are some characteristics of a car such as price (buying price and maintenance price) and comfort(number of doors, estimated safety, size of luggage boot and number of person which the car can accommodate). "
   ]
  },
  {
   "cell_type": "markdown",
   "metadata": {},
   "source": [
    "## Domain Background: \n",
    "\n",
    "Car Junk sales are quite common in today’s world throughout the country and one common theme in all these transaction is the ease with which a car is considered as ‘junk’ simply because it is not ‘running’. This is mainly due to lack to knowledge of automotive among car sellers and junkyard owners. An attempt is made in this project to create a model which can predict a car acceptability rate and see if the car be reused/sold with some minor repairs. Though the primary aim of the project is to help junkyard owners identify acceptable cars and improve their revenue by selling the cars which in turn helps in creating less waste and scrap, this kind of analysis can also be used by automotive manufacturers to provide optimum warranty to customers and help them in educating about the car’s performance and warranty. Working in the automotive industry for over 3 years, one of my motivation is to understand the reliability of a car and present it to the general public to save them from losing money on cars which can be easily fixed. This project is a small attempt in that direction."
   ]
  },
  {
   "cell_type": "code",
   "execution_count": 1,
   "metadata": {},
   "outputs": [],
   "source": [
    "#Importing required packages\n",
    "\n",
    "import numpy as np\n",
    "import pandas as pd\n",
    "import matplotlib.pyplot as plt\n",
    "import sklearn\n",
    "\n",
    "# Pretty display for notebooks\n",
    "%matplotlib inline\n"
   ]
  },
  {
   "cell_type": "markdown",
   "metadata": {},
   "source": [
    "## Data Sets and Inputs: \n",
    "\n",
    "The Data is collected from UCI Machine Learning repository. It has 1728 Instances and 6 variables which are defined below:\n",
    "1.\tBuying_price: The price of buying the car. Attributes: v-high, high, med, low\n",
    "2.\tMaint_price: The price of the maintenance of the car. Attributes: v-high, high, med, low\n",
    "3.\tdoors: Number of doors in the car. Attributes:  2, 3, 4, 5-more\n",
    "4.\tpersons: Capacity of the car in terms of persons it can carry. Attributes: 2, 4, more\n",
    "5.\tlug_boot: Size of the luggage boot. Attributes: small, med, big\n",
    "6.\tsafety: estimated safety of the car. Attributes: low, med, high\n",
    "The dataset does not have any missing values and the entire dataset is categorical in nature and very simple which is done purposely keeping in mind the limited knowledge of the general public of all the attributes and to make it easy for them to use the model (Uncle Sam in the narrative)\n"
   ]
  },
  {
   "cell_type": "code",
   "execution_count": 2,
   "metadata": {},
   "outputs": [
    {
     "data": {
      "text/html": [
       "<div>\n",
       "<style scoped>\n",
       "    .dataframe tbody tr th:only-of-type {\n",
       "        vertical-align: middle;\n",
       "    }\n",
       "\n",
       "    .dataframe tbody tr th {\n",
       "        vertical-align: top;\n",
       "    }\n",
       "\n",
       "    .dataframe thead th {\n",
       "        text-align: right;\n",
       "    }\n",
       "</style>\n",
       "<table border=\"1\" class=\"dataframe\">\n",
       "  <thead>\n",
       "    <tr style=\"text-align: right;\">\n",
       "      <th></th>\n",
       "      <th>Buying_price</th>\n",
       "      <th>Maint_price</th>\n",
       "      <th>doors</th>\n",
       "      <th>persons</th>\n",
       "      <th>lug_boot</th>\n",
       "      <th>safety</th>\n",
       "      <th>CAR</th>\n",
       "    </tr>\n",
       "  </thead>\n",
       "  <tbody>\n",
       "    <tr>\n",
       "      <th>0</th>\n",
       "      <td>vhigh</td>\n",
       "      <td>vhigh</td>\n",
       "      <td>2</td>\n",
       "      <td>2</td>\n",
       "      <td>small</td>\n",
       "      <td>low</td>\n",
       "      <td>unacc</td>\n",
       "    </tr>\n",
       "    <tr>\n",
       "      <th>1</th>\n",
       "      <td>vhigh</td>\n",
       "      <td>vhigh</td>\n",
       "      <td>2</td>\n",
       "      <td>2</td>\n",
       "      <td>small</td>\n",
       "      <td>med</td>\n",
       "      <td>unacc</td>\n",
       "    </tr>\n",
       "    <tr>\n",
       "      <th>2</th>\n",
       "      <td>vhigh</td>\n",
       "      <td>vhigh</td>\n",
       "      <td>2</td>\n",
       "      <td>2</td>\n",
       "      <td>small</td>\n",
       "      <td>high</td>\n",
       "      <td>unacc</td>\n",
       "    </tr>\n",
       "    <tr>\n",
       "      <th>3</th>\n",
       "      <td>vhigh</td>\n",
       "      <td>vhigh</td>\n",
       "      <td>2</td>\n",
       "      <td>2</td>\n",
       "      <td>med</td>\n",
       "      <td>low</td>\n",
       "      <td>unacc</td>\n",
       "    </tr>\n",
       "    <tr>\n",
       "      <th>4</th>\n",
       "      <td>vhigh</td>\n",
       "      <td>vhigh</td>\n",
       "      <td>2</td>\n",
       "      <td>2</td>\n",
       "      <td>med</td>\n",
       "      <td>med</td>\n",
       "      <td>unacc</td>\n",
       "    </tr>\n",
       "  </tbody>\n",
       "</table>\n",
       "</div>"
      ],
      "text/plain": [
       "  Buying_price Maint_price doors persons lug_boot safety    CAR\n",
       "0        vhigh       vhigh     2       2    small    low  unacc\n",
       "1        vhigh       vhigh     2       2    small    med  unacc\n",
       "2        vhigh       vhigh     2       2    small   high  unacc\n",
       "3        vhigh       vhigh     2       2      med    low  unacc\n",
       "4        vhigh       vhigh     2       2      med    med  unacc"
      ]
     },
     "execution_count": 2,
     "metadata": {},
     "output_type": "execute_result"
    }
   ],
   "source": [
    "#Reading data in a DataFrame\n",
    "\n",
    "data = pd.read_csv(\"Car_Evaluation_Data.csv\")\n",
    "\n",
    "data.head()"
   ]
  },
  {
   "cell_type": "code",
   "execution_count": 3,
   "metadata": {},
   "outputs": [
    {
     "data": {
      "text/html": [
       "<div>\n",
       "<style scoped>\n",
       "    .dataframe tbody tr th:only-of-type {\n",
       "        vertical-align: middle;\n",
       "    }\n",
       "\n",
       "    .dataframe tbody tr th {\n",
       "        vertical-align: top;\n",
       "    }\n",
       "\n",
       "    .dataframe thead th {\n",
       "        text-align: right;\n",
       "    }\n",
       "</style>\n",
       "<table border=\"1\" class=\"dataframe\">\n",
       "  <thead>\n",
       "    <tr style=\"text-align: right;\">\n",
       "      <th></th>\n",
       "      <th>Buying_price</th>\n",
       "      <th>Maint_price</th>\n",
       "      <th>doors</th>\n",
       "      <th>persons</th>\n",
       "      <th>lug_boot</th>\n",
       "      <th>safety</th>\n",
       "      <th>CAR</th>\n",
       "    </tr>\n",
       "  </thead>\n",
       "  <tbody>\n",
       "    <tr>\n",
       "      <th>count</th>\n",
       "      <td>1728</td>\n",
       "      <td>1728</td>\n",
       "      <td>1728</td>\n",
       "      <td>1728</td>\n",
       "      <td>1728</td>\n",
       "      <td>1728</td>\n",
       "      <td>1728</td>\n",
       "    </tr>\n",
       "    <tr>\n",
       "      <th>unique</th>\n",
       "      <td>4</td>\n",
       "      <td>4</td>\n",
       "      <td>4</td>\n",
       "      <td>3</td>\n",
       "      <td>3</td>\n",
       "      <td>3</td>\n",
       "      <td>4</td>\n",
       "    </tr>\n",
       "    <tr>\n",
       "      <th>top</th>\n",
       "      <td>vhigh</td>\n",
       "      <td>vhigh</td>\n",
       "      <td>2</td>\n",
       "      <td>2</td>\n",
       "      <td>small</td>\n",
       "      <td>low</td>\n",
       "      <td>unacc</td>\n",
       "    </tr>\n",
       "    <tr>\n",
       "      <th>freq</th>\n",
       "      <td>432</td>\n",
       "      <td>432</td>\n",
       "      <td>432</td>\n",
       "      <td>576</td>\n",
       "      <td>576</td>\n",
       "      <td>576</td>\n",
       "      <td>1210</td>\n",
       "    </tr>\n",
       "  </tbody>\n",
       "</table>\n",
       "</div>"
      ],
      "text/plain": [
       "       Buying_price Maint_price doors persons lug_boot safety    CAR\n",
       "count          1728        1728  1728    1728     1728   1728   1728\n",
       "unique            4           4     4       3        3      3      4\n",
       "top           vhigh       vhigh     2       2    small    low  unacc\n",
       "freq            432         432   432     576      576    576   1210"
      ]
     },
     "execution_count": 3,
     "metadata": {},
     "output_type": "execute_result"
    }
   ],
   "source": [
    "data.describe()"
   ]
  },
  {
   "cell_type": "code",
   "execution_count": 4,
   "metadata": {},
   "outputs": [
    {
     "name": "stdout",
     "output_type": "stream",
     "text": [
      "Total number of Instances = 1728\n",
      "Total number of Unacceptable condition cars in Data Set = 1210\n",
      "Total number of Acceptable condition cars in Data Set = 384\n",
      "Total number of Good condition cars in Data Set = 69\n",
      "Total number of Very Good condition cars in Data Set = 65\n"
     ]
    }
   ],
   "source": [
    "#Data Exploration\n",
    "\n",
    "number_of_instances = len(data)\n",
    "\n",
    "def number(x):\n",
    "    return len(data[data['CAR'] == x])\n",
    "\n",
    "\n",
    "number_of_unacceptable_cars = number('unacc')\n",
    "number_of_acceptable_cars = number('acc')\n",
    "number_of_good_cars = number('good')\n",
    "number_of_very_good_cars = number('vgood')\n",
    "\n",
    "print(\"Total number of Instances = {}\".format(number_of_instances))\n",
    "print(\"Total number of Unacceptable condition cars in Data Set = {}\".format(number_of_unacceptable_cars))\n",
    "print(\"Total number of Acceptable condition cars in Data Set = {}\".format(number_of_acceptable_cars))\n",
    "print(\"Total number of Good condition cars in Data Set = {}\".format(number_of_good_cars))\n",
    "print(\"Total number of Very Good condition cars in Data Set = {}\".format(number_of_very_good_cars))\n"
   ]
  },
  {
   "cell_type": "code",
   "execution_count": 5,
   "metadata": {},
   "outputs": [
    {
     "name": "stdout",
     "output_type": "stream",
     "text": [
      "Percentage of Unacceptable condition cars = 70.02%\n",
      "Percentage of Acceptable condition cars = 22.22%\n",
      "Percentage of Good condition cars = 3.99%\n",
      "Percentage of Very Good condition cars = 3.76%\n"
     ]
    }
   ],
   "source": [
    "#Percentages\n",
    "\n",
    "def percentage(x):\n",
    "    return ((x/number_of_instances) * 100.00)\n",
    "\n",
    "print(\"Percentage of Unacceptable condition cars = {:.2f}%\".format(percentage(number_of_unacceptable_cars)))\n",
    "print(\"Percentage of Acceptable condition cars = {:.2f}%\".format(percentage(number_of_acceptable_cars)))\n",
    "print(\"Percentage of Good condition cars = {:.2f}%\".format(percentage(number_of_good_cars)))\n",
    "print(\"Percentage of Very Good condition cars = {:.2f}%\".format(percentage(number_of_very_good_cars)))"
   ]
  },
  {
   "cell_type": "code",
   "execution_count": 6,
   "metadata": {},
   "outputs": [],
   "source": [
    "#Splitting features and Target Label\n",
    "\n",
    "Target_CAR = data['CAR']\n",
    "features = data.drop('CAR', axis = 1)"
   ]
  },
  {
   "cell_type": "code",
   "execution_count": 7,
   "metadata": {
    "scrolled": true
   },
   "outputs": [
    {
     "name": "stdout",
     "output_type": "stream",
     "text": [
      "Attributes of 'Buying_price' feature = ['vhigh' 'high' 'med' 'low']\n",
      "Attributes of 'Maint_price' feature = ['vhigh' 'high' 'med' 'low']\n",
      "Attributes of 'doors' feature = ['2' '3' '4' '5more']\n",
      "Attributes of 'persons' feature = ['2' '4' 'more']\n",
      "Attributes of 'lug_boot' feature = ['small' 'med' 'big']\n",
      "Attributes of 'safety' feature = ['low' 'med' 'high']\n"
     ]
    }
   ],
   "source": [
    "#Feature Set Exploration\n",
    "\n",
    "for column in features.columns:\n",
    "    print(\"Attributes of '{}' feature = {}\".format(column, features[column].unique()))"
   ]
  },
  {
   "cell_type": "markdown",
   "metadata": {},
   "source": [
    "## Feature Set Exploration\n",
    "\n",
    "There are six input features the details of which are given below:\n",
    "1.\tBuying_price: The price of buying the car. Attributes: v-high, high, med, low\n",
    "2.\tMaint_price: The price of the maintenance of the car. Attributes: v-high, high, med, low\n",
    "3.\tdoors: Number of doors in the car. Attributes:  2, 3, 4, 5-more\n",
    "4.\tpersons: Capacity of the car in terms of persons it can carry. Attributes: 2, 4, more\n",
    "5.\tlug_boot: Size of the luggage boot. Attributes: small, med, big\n",
    "6.\tsafety: estimated safety of the car. Attributes: low, med, high\n",
    "\n",
    "\n",
    "\n"
   ]
  },
  {
   "cell_type": "code",
   "execution_count": 8,
   "metadata": {},
   "outputs": [],
   "source": [
    "#Exploratory Visualization\n",
    "\n",
    "def visualization(feature):\n",
    "    def values(feature):\n",
    "        d = {} #creating a dictionary\n",
    "        d1 = data[[feature, 'CAR']] #extracting the feature and the CAR columns from the data\n",
    "        for j in d1[feature].unique(): #for each unique attribute of the selected feature\n",
    "            d2 = (d1[d1[feature] == j])['CAR'].value_counts()  #give the number of unacc, acc, good and vgood for each attribute\n",
    "            for i in d1['CAR'].unique(): #unique values of CAR - unacc, acc, good, vgood\n",
    "                if i in d2: \n",
    "                    if i in d:\n",
    "                        d[i].append(d2[i]) \n",
    "                    else:\n",
    "                        d[i] = []   #creating a key with the name of the target label and the value is the number of examples\n",
    "                        d[i].append(d2[i])\n",
    "                else:\n",
    "                    if i in d:\n",
    "                        d[i].append(0)\n",
    "                    else:\n",
    "                        d[i] = []\n",
    "                        d[i].append(0)\n",
    "        return d\n",
    "    \n",
    "    N=len(data[feature].unique())\n",
    "    w=0.3\n",
    "    x=np.arange(N)\n",
    "    dict1 = values(feature)\n",
    "    ax = plt.subplot(111)\n",
    "    p1 = ax.bar(x-(1.5*w), dict1['unacc'], width = w, color = 'b', align = 'center')\n",
    "    p2 = ax.bar(x-(0.5*w), dict1['acc'], width = w, color = 'g', align = 'center')\n",
    "    p3 = ax.bar(x+(w*0.5), dict1['good'], width = w, color = 'r', align  = 'center')\n",
    "    p4 = ax.bar(x+(w*1.5), dict1['vgood'], width  = w, align  = 'center')\n",
    "\n",
    "    ax.autoscale(tight=True)\n",
    "    plt.xlabel(\"'{}' attributes\".format(feature))\n",
    "    plt.title(\"'{}' feature distrbution by CAR Label\".format(feature))\n",
    "    plt.ylabel('Frequency')\n",
    "    plt.xticks(x, data[feature].unique())\n",
    "    plt.yticks(np.arange(0, 500, 50))\n",
    "    plt.legend((p1[0], p2[0], p3[0], p4[0]), ('unacc', 'acc', 'good', 'vgood'))\n",
    "    plt.show()\n",
    "\n"
   ]
  },
  {
   "cell_type": "code",
   "execution_count": 9,
   "metadata": {},
   "outputs": [
    {
     "data": {
      "image/png": "[encoded data removed]",
      "text/plain": [
       "<Figure size 640x480 with 1 Axes>"
      ]
     },
     "metadata": {},
     "output_type": "display_data"
    }
   ],
   "source": [
    "visualization(feature = 'Buying_price')"
   ]
  },
  {
   "cell_type": "code",
   "execution_count": 10,
   "metadata": {},
   "outputs": [
    {
     "data": {
      "image/png": "[encoded data removed]",
      "text/plain": [
       "<Figure size 640x480 with 1 Axes>"
      ]
     },
     "metadata": {},
     "output_type": "display_data"
    }
   ],
   "source": [
    "visualization(feature = 'Maint_price')"
   ]
  },
  {
   "cell_type": "code",
   "execution_count": 11,
   "metadata": {},
   "outputs": [
    {
     "data": {
      "image/png": "[encoded data removed]",
      "text/plain": [
       "<Figure size 640x480 with 1 Axes>"
      ]
     },
     "metadata": {},
     "output_type": "display_data"
    }
   ],
   "source": [
    "visualization(feature = 'safety')"
   ]
  },
  {
   "cell_type": "code",
   "execution_count": 12,
   "metadata": {},
   "outputs": [
    {
     "data": {
      "text/plain": [
       "432"
      ]
     },
     "execution_count": 12,
     "metadata": {},
     "output_type": "execute_result"
    }
   ],
   "source": [
    "len(data[data['Buying_price'] == data['Maint_price']]['CAR'])"
   ]
  },
  {
   "cell_type": "markdown",
   "metadata": {},
   "source": [
    "One interesting finding with the exploratory visualization was that the frequency graph of the Maintenance price feature and Buying price feature are very similar. They both have almost equal number of same condition cars (unacceptable, acceptable, good and very good) for each of their attributes. This begs the question if both these features are performing similarly with respect to the target variable – meaning does a car with unacceptable condition have some Buying_price and Maint_price?. IF that is the case then one feature can be eliminated – Buying_price in the pre-processing step which can significantly improve the performance of the  classifier and this will reduce the number of features (after one-hot encoding) and will be faster. Further analysis showed that there are only 432 rows which have some value for Buying_price and Maint_price out of the total 1728 examples. So even though the frequency of occurrence is same for these features, they do not classify the label majority of the time which means that a car with very high Buying price and unacceptable condition does not necessarily have very high Maintenance price. So both these features are important in the final classification."
   ]
  },
  {
   "cell_type": "code",
   "execution_count": 13,
   "metadata": {},
   "outputs": [
    {
     "name": "stdout",
     "output_type": "stream",
     "text": [
      "Number of features after pre-processing: 21\n"
     ]
    }
   ],
   "source": [
    "#Prepocessing - 1: One Hot Encoding\n",
    "\n",
    "#Splitting features and Target variable\n",
    "Target_CAR = data['CAR']\n",
    "features = data.drop('CAR', axis = 1)\n",
    "\n",
    "#One Hot Encoding the Target Variable\n",
    "def one_hot_encode(example):\n",
    "    if example =='unacc':\n",
    "        return 0\n",
    "    elif example == 'acc':\n",
    "        return 1\n",
    "    elif example == 'good':\n",
    "        return 2\n",
    "    elif example == 'vgood':\n",
    "        return 3\n",
    "    else:\n",
    "        print(\"Invalid entry\")\n",
    "CAR = Target_CAR.apply(one_hot_encode)\n",
    "\n",
    "#Creating Dummies for features\n",
    "features_final = pd.get_dummies(features)\n",
    "print(\"Number of features after pre-processing: {}\".format(len(features_final.columns)))"
   ]
  },
  {
   "cell_type": "markdown",
   "metadata": {},
   "source": [
    "## Benchmark Model\n",
    "\n",
    "Usually, all the cars which are sold to the junkyard is considered to be in unacceptable condition and of no use and is dismantled straightway. This is a naïve practice and can be taken as a Benchmark model for this project i.e. predicting ‘unacc’ for all the cars no matter what the price or the safety of the car is.  This is quite common in today’s market and the aim of this model is to make predictions better than the Benchmark model i.e. identify the cars which are acceptable or good or very good given certain features of the car.\n",
    "\n",
    "Precision is given by the ratio of number of examples predicted as positive which were actually positive (True Positives) to all the number of examples predicted as positive irrespective of whether they were positive or not (True Positives + False Positives)\n",
    "Recall is given by the ratio of number of examples predicted as positive which were actually positive (True Positives) to the total number of examples which were positive whether they were predicted or not (True Positives + False Negatives)\n"
   ]
  },
  {
   "cell_type": "code",
   "execution_count": 14,
   "metadata": {},
   "outputs": [],
   "source": [
    "# Creating Benchmark Model - predicting 'unacc' (0) for all the examples \n",
    "\n",
    "def benchmark(value):\n",
    "    return 0\n",
    "\n",
    "Benchmark_CAR = Target_CAR.apply(benchmark)"
   ]
  },
  {
   "cell_type": "code",
   "execution_count": 15,
   "metadata": {},
   "outputs": [
    {
     "name": "stdout",
     "output_type": "stream",
     "text": [
      "Benchmark Model F1 score = 0.7002314814814815\n"
     ]
    }
   ],
   "source": [
    "#Evaluating Bench Mark Model performance\n",
    "\n",
    "from sklearn.metrics import f1_score\n",
    "\n",
    "benchmark_score = f1_score(CAR, Benchmark_CAR, average = 'micro' )\n",
    "print(\"Benchmark Model F1 score = {}\".format(benchmark_score))"
   ]
  },
  {
   "cell_type": "code",
   "execution_count": 16,
   "metadata": {},
   "outputs": [
    {
     "data": {
      "text/html": [
       "<div>\n",
       "<style scoped>\n",
       "    .dataframe tbody tr th:only-of-type {\n",
       "        vertical-align: middle;\n",
       "    }\n",
       "\n",
       "    .dataframe tbody tr th {\n",
       "        vertical-align: top;\n",
       "    }\n",
       "\n",
       "    .dataframe thead th {\n",
       "        text-align: right;\n",
       "    }\n",
       "</style>\n",
       "<table border=\"1\" class=\"dataframe\">\n",
       "  <thead>\n",
       "    <tr style=\"text-align: right;\">\n",
       "      <th></th>\n",
       "      <th>Buying_price_high</th>\n",
       "      <th>Buying_price_low</th>\n",
       "      <th>Buying_price_med</th>\n",
       "      <th>Buying_price_vhigh</th>\n",
       "      <th>Maint_price_high</th>\n",
       "      <th>Maint_price_low</th>\n",
       "      <th>Maint_price_med</th>\n",
       "      <th>Maint_price_vhigh</th>\n",
       "      <th>doors_2</th>\n",
       "      <th>doors_3</th>\n",
       "      <th>...</th>\n",
       "      <th>doors_5more</th>\n",
       "      <th>persons_2</th>\n",
       "      <th>persons_4</th>\n",
       "      <th>persons_more</th>\n",
       "      <th>lug_boot_big</th>\n",
       "      <th>lug_boot_med</th>\n",
       "      <th>lug_boot_small</th>\n",
       "      <th>safety_high</th>\n",
       "      <th>safety_low</th>\n",
       "      <th>safety_med</th>\n",
       "    </tr>\n",
       "  </thead>\n",
       "  <tbody>\n",
       "    <tr>\n",
       "      <th>0</th>\n",
       "      <td>0</td>\n",
       "      <td>0</td>\n",
       "      <td>0</td>\n",
       "      <td>1</td>\n",
       "      <td>0</td>\n",
       "      <td>0</td>\n",
       "      <td>0</td>\n",
       "      <td>1</td>\n",
       "      <td>1</td>\n",
       "      <td>0</td>\n",
       "      <td>...</td>\n",
       "      <td>0</td>\n",
       "      <td>1</td>\n",
       "      <td>0</td>\n",
       "      <td>0</td>\n",
       "      <td>0</td>\n",
       "      <td>0</td>\n",
       "      <td>1</td>\n",
       "      <td>0</td>\n",
       "      <td>1</td>\n",
       "      <td>0</td>\n",
       "    </tr>\n",
       "    <tr>\n",
       "      <th>1</th>\n",
       "      <td>0</td>\n",
       "      <td>0</td>\n",
       "      <td>0</td>\n",
       "      <td>1</td>\n",
       "      <td>0</td>\n",
       "      <td>0</td>\n",
       "      <td>0</td>\n",
       "      <td>1</td>\n",
       "      <td>1</td>\n",
       "      <td>0</td>\n",
       "      <td>...</td>\n",
       "      <td>0</td>\n",
       "      <td>1</td>\n",
       "      <td>0</td>\n",
       "      <td>0</td>\n",
       "      <td>0</td>\n",
       "      <td>0</td>\n",
       "      <td>1</td>\n",
       "      <td>0</td>\n",
       "      <td>0</td>\n",
       "      <td>1</td>\n",
       "    </tr>\n",
       "    <tr>\n",
       "      <th>2</th>\n",
       "      <td>0</td>\n",
       "      <td>0</td>\n",
       "      <td>0</td>\n",
       "      <td>1</td>\n",
       "      <td>0</td>\n",
       "      <td>0</td>\n",
       "      <td>0</td>\n",
       "      <td>1</td>\n",
       "      <td>1</td>\n",
       "      <td>0</td>\n",
       "      <td>...</td>\n",
       "      <td>0</td>\n",
       "      <td>1</td>\n",
       "      <td>0</td>\n",
       "      <td>0</td>\n",
       "      <td>0</td>\n",
       "      <td>0</td>\n",
       "      <td>1</td>\n",
       "      <td>1</td>\n",
       "      <td>0</td>\n",
       "      <td>0</td>\n",
       "    </tr>\n",
       "    <tr>\n",
       "      <th>3</th>\n",
       "      <td>0</td>\n",
       "      <td>0</td>\n",
       "      <td>0</td>\n",
       "      <td>1</td>\n",
       "      <td>0</td>\n",
       "      <td>0</td>\n",
       "      <td>0</td>\n",
       "      <td>1</td>\n",
       "      <td>1</td>\n",
       "      <td>0</td>\n",
       "      <td>...</td>\n",
       "      <td>0</td>\n",
       "      <td>1</td>\n",
       "      <td>0</td>\n",
       "      <td>0</td>\n",
       "      <td>0</td>\n",
       "      <td>1</td>\n",
       "      <td>0</td>\n",
       "      <td>0</td>\n",
       "      <td>1</td>\n",
       "      <td>0</td>\n",
       "    </tr>\n",
       "    <tr>\n",
       "      <th>4</th>\n",
       "      <td>0</td>\n",
       "      <td>0</td>\n",
       "      <td>0</td>\n",
       "      <td>1</td>\n",
       "      <td>0</td>\n",
       "      <td>0</td>\n",
       "      <td>0</td>\n",
       "      <td>1</td>\n",
       "      <td>1</td>\n",
       "      <td>0</td>\n",
       "      <td>...</td>\n",
       "      <td>0</td>\n",
       "      <td>1</td>\n",
       "      <td>0</td>\n",
       "      <td>0</td>\n",
       "      <td>0</td>\n",
       "      <td>1</td>\n",
       "      <td>0</td>\n",
       "      <td>0</td>\n",
       "      <td>0</td>\n",
       "      <td>1</td>\n",
       "    </tr>\n",
       "  </tbody>\n",
       "</table>\n",
       "<p>5 rows × 21 columns</p>\n",
       "</div>"
      ],
      "text/plain": [
       "   Buying_price_high  Buying_price_low  Buying_price_med  Buying_price_vhigh  \\\n",
       "0                  0                 0                 0                   1   \n",
       "1                  0                 0                 0                   1   \n",
       "2                  0                 0                 0                   1   \n",
       "3                  0                 0                 0                   1   \n",
       "4                  0                 0                 0                   1   \n",
       "\n",
       "   Maint_price_high  Maint_price_low  Maint_price_med  Maint_price_vhigh  \\\n",
       "0                 0                0                0                  1   \n",
       "1                 0                0                0                  1   \n",
       "2                 0                0                0                  1   \n",
       "3                 0                0                0                  1   \n",
       "4                 0                0                0                  1   \n",
       "\n",
       "   doors_2  doors_3  ...  doors_5more  persons_2  persons_4  persons_more  \\\n",
       "0        1        0  ...            0          1          0             0   \n",
       "1        1        0  ...            0          1          0             0   \n",
       "2        1        0  ...            0          1          0             0   \n",
       "3        1        0  ...            0          1          0             0   \n",
       "4        1        0  ...            0          1          0             0   \n",
       "\n",
       "   lug_boot_big  lug_boot_med  lug_boot_small  safety_high  safety_low  \\\n",
       "0             0             0               1            0           1   \n",
       "1             0             0               1            0           0   \n",
       "2             0             0               1            1           0   \n",
       "3             0             1               0            0           1   \n",
       "4             0             1               0            0           0   \n",
       "\n",
       "   safety_med  \n",
       "0           0  \n",
       "1           1  \n",
       "2           0  \n",
       "3           0  \n",
       "4           1  \n",
       "\n",
       "[5 rows x 21 columns]"
      ]
     },
     "execution_count": 16,
     "metadata": {},
     "output_type": "execute_result"
    }
   ],
   "source": [
    "features_final.head()"
   ]
  },
  {
   "cell_type": "code",
   "execution_count": 17,
   "metadata": {},
   "outputs": [
    {
     "name": "stdout",
     "output_type": "stream",
     "text": [
      "Number of Training examples: 1382\n",
      "Number of Testing examples: 346\n"
     ]
    }
   ],
   "source": [
    "#Preprocessing - 2: Splitting into training and testing datasets\n",
    "\n",
    "from sklearn.model_selection import train_test_split\n",
    "\n",
    "X_train, X_test, y_train, y_test = train_test_split(features_final, CAR, test_size = 0.2, random_state = 0)\n",
    "\n",
    "print(\"Number of Training examples: {}\".format(X_train.shape[0]))\n",
    "print(\"Number of Testing examples: {}\".format(X_test.shape[0]))"
   ]
  },
  {
   "cell_type": "markdown",
   "metadata": {},
   "source": [
    "## Classifiers:\n",
    "\n",
    "After the data is prepared and is ready, it will be fitted to three classifiers to do a comparison study of these three classifiers and select the classifier with the highest performance as measures on the evaluation metric – F1 score and the time to complete the classification. The three classifiers which will be used in this project are given below:\n",
    "\n",
    "i.  Decision Tree Classifier: The Decision Tree Classifier predicts the target by asking a series of if-else questions and dividing the dataset. It’s easy to implement and the tree which was used by the classifier to predict the outcome can be visualized which gives a clear picture of how the classifier arrived at the results and this can be used to further fine-tune the model. Since this dataset has all the categorical features, Decision Tree Classifier can fit the data well and should be able to produce good predictions by optimizing the parameters and Overfitting is avoided.\n",
    "\n",
    "ii. K-Nearest Neighbor: K-Nearest Neighbor works on the principle of finding the commonality between the features and predicting the results. For example, if the Buying price and Maintenance price of a car is high then the car is more likely unacceptable. Intuitively, these kinds of patterns exist in the data given the it’s categorical nature and K-Nearest Neighbor can find these patterns and use them to make good predictions.\n",
    "\n",
    "iii. Gaussian Naïve Bayes: Gaussian Naïve Bayes classifier are known to perform well on classification problems with categorical datasets and limited dependencies. All the six features of this dataset are categorical and do not have then same attributes which makes them independent of each other. For this reason, Gaussian Naïve Bayes can be a good fit for this classification problem\n",
    "\n",
    "All these three models will be fit to the dataset and evaluated based on the performance metrics as discussed above. A comparative study of the performance of these models will be done to select one classifier. The selected classifier is now refined to further improve the performance and to make sure it performs better than the Benchmark Model. In order to perform the refinement process, Grid Search CV technique will be implemented wherein the parameters of the selected model are given a range and presented in the form of a Grid. Each and every combination of the parameters is tested and evaluated and the optimum values of the parameters are given at the end which performs the best classification and has the highest metric. The prediction result of this classifier with the optimum parameters is compared with the Benchmark model using the same evaluation metric to ensure that it is performing better. The percentage improvement in performance by optimizing the parameters is also noted and reported.\n"
   ]
  },
  {
   "cell_type": "code",
   "execution_count": 18,
   "metadata": {},
   "outputs": [
    {
     "name": "stdout",
     "output_type": "stream",
     "text": [
      "DecisionTreeClassifier score = 0.9739884393063584\n",
      "GaussianNB score = 0.7687861271676302\n",
      "KNeighborsClassifier score = 0.8265895953757225\n"
     ]
    }
   ],
   "source": [
    "from sklearn.tree import DecisionTreeClassifier\n",
    "from sklearn.naive_bayes import GaussianNB\n",
    "from sklearn.neighbors import KNeighborsClassifier\n",
    "from sklearn.metrics import f1_score\n",
    "\n",
    "\n",
    "score_dict = {}\n",
    "classifiers = [DecisionTreeClassifier(random_state = 0), GaussianNB(), KNeighborsClassifier()]\n",
    "f_scores = []\n",
    "def score(classifier):\n",
    "    clf = classifier.fit(X_train, y_train)\n",
    "    pred = clf.predict(X_test)\n",
    "    score = f1_score(y_test, pred, average = 'micro' )\n",
    "    return score\n",
    "\n",
    "for classifier in classifiers:\n",
    "    name = classifier.__class__.__name__\n",
    "    score_dict[name] = score(classifier)\n",
    "    f_scores.append(score(classifier))\n",
    "    print(\"{} score = {}\".format(name, score_dict[name]))\n",
    "    "
   ]
  },
  {
   "cell_type": "code",
   "execution_count": 19,
   "metadata": {},
   "outputs": [
    {
     "data": {
      "image/png": "[encoded data removed]",
      "text/plain": [
       "<Figure size 640x480 with 1 Axes>"
      ]
     },
     "metadata": {},
     "output_type": "display_data"
    }
   ],
   "source": [
    "#Plotting the performance of Classifiers\n",
    "\n",
    "N=3\n",
    "w=0.5\n",
    "x=np.arange(N)\n",
    "p1 = plt.bar(x, f_scores, width = w, align = 'center')\n",
    "\n",
    "plt.xlabel(\"Classifiers\")\n",
    "plt.title(\"Performance Comparison of Classifiers\")\n",
    "plt.ylabel(\"F score\")\n",
    "plt.xticks(x, score_dict.keys())\n",
    "plt.yticks(np.arange(0, 1.1, 0.1))\n",
    "\n",
    "plt.show()\n",
    "   "
   ]
  },
  {
   "cell_type": "markdown",
   "metadata": {},
   "source": [
    "## Optmizing Decision Tree Classifier\n",
    "\n",
    "Grid Search CV technique is where all the parameters of a given classifier is given a range of values and a performance metric is created to evaluate the performance – f-score in this case. A grid object is created with the parameter values and the performance metric and is fitted to the training data set. This object takes all the combinations of the given parameter values – one at a time, fits it to the dataset and makes the predictions. The performance of the classifier is measures with each combination of the parameters and the combination which performs the best is taken and used as the final parameter values.\n",
    "\n",
    "The parameters selected for Decision Tree Classifier are – criterion – ‘gini’ or ‘entropy’ and max_depth – range of 1 to 15.\n",
    "The grid object takes one combination of parameters (criterion = ‘gini’ and max_depth  =1;criterion = ‘gini’ and max_depth = 2 and so on…..) at a time and uses those parameters in the classifier to fit to the dataset and make predictions. \n",
    "\n",
    "The model with the optimum parameters is finally used to make predictions and the performance is evaluated. The goal is to improve the performance of the optimum model when compared to the unoptimized initial model.\n"
   ]
  },
  {
   "cell_type": "code",
   "execution_count": 20,
   "metadata": {},
   "outputs": [
    {
     "ename": "ModuleNotFoundError",
     "evalue": "No module named 'sklearn.grid_search'",
     "output_type": "error",
     "traceback": [
      "\u001b[1;31m---------------------------------------------------------------------------\u001b[0m",
      "\u001b[1;31mModuleNotFoundError\u001b[0m                       Traceback (most recent call last)",
      "Cell \u001b[1;32mIn[20], line 1\u001b[0m\n\u001b[1;32m----> 1\u001b[0m \u001b[39mfrom\u001b[39;00m \u001b[39msklearn\u001b[39;00m\u001b[39m.\u001b[39;00m\u001b[39mgrid_search\u001b[39;00m \u001b[39mimport\u001b[39;00m GridSearchCV\n\u001b[0;32m      2\u001b[0m \u001b[39mfrom\u001b[39;00m \u001b[39msklearn\u001b[39;00m\u001b[39m.\u001b[39;00m\u001b[39mmetrics\u001b[39;00m \u001b[39mimport\u001b[39;00m make_scorer\n\u001b[0;32m      3\u001b[0m \u001b[39mfrom\u001b[39;00m \u001b[39msklearn\u001b[39;00m\u001b[39m.\u001b[39;00m\u001b[39mmetrics\u001b[39;00m \u001b[39mimport\u001b[39;00m f1_score\n",
      "\u001b[1;31mModuleNotFoundError\u001b[0m: No module named 'sklearn.grid_search'"
     ]
    }
   ],
   "source": [
    "from sklearn.grid_search import GridSearchCV\n",
    "from sklearn.metrics import make_scorer\n",
    "from sklearn.metrics import f1_score\n",
    "\n",
    "def scorer(y_true, pred):\n",
    "    return (f1_score(y_true, pred, average = 'micro'))\n",
    "\n",
    "classifier = DecisionTreeClassifier(random_state = 0)\n",
    "unoptimized_score = score_dict['DecisionTreeClassifier']\n",
    "param_grid = {\"criterion\": [\"gini\", \"entropy\"], \"max_depth\": list(range(1,15)),}\n",
    "grid = GridSearchCV(classifier, param_grid, make_scorer(scorer), cv = 5)\n",
    "grid = grid.fit(X_train, y_train)\n",
    "optimum_parameters = grid.best_estimator_\n",
    "optimum_predictions = optimum_parameters.predict(X_test)\n",
    "optimized_score = scorer(y_test, optimum_predictions)\n",
    "print(\"Unoptimized Initial score = {}\".format(unoptimized_score))\n",
    "print(\"Optimum score with best parameters = {}\".format(optimized_score))\n",
    "print(\"Improved Performance by optimizing the model by {:.2f}%\".format(((optimized_score - unoptimized_score) / unoptimized_score)*100))\n",
    "print(\"Optimum Parameters: \\n {}\".format(grid.best_params_))"
   ]
  },
  {
   "cell_type": "code",
   "execution_count": null,
   "metadata": {},
   "outputs": [
    {
     "data": {
      "image/png": "[encoded data removed]",
      "text/plain": [
       "<matplotlib.figure.Figure at 0x1ee9fa66c88>"
      ]
     },
     "metadata": {},
     "output_type": "display_data"
    }
   ],
   "source": [
    "#Plotting and comparing all the performances\n",
    "\n",
    "N=3\n",
    "w=0.5\n",
    "x=np.arange(N)\n",
    "p1 = plt.bar(x, [benchmark_score, unoptimized_score, optimized_score], width = w, align = 'center')\n",
    "\n",
    "plt.xlabel(\"Models\")\n",
    "plt.title(\"Performance Comparison of Models\")\n",
    "plt.ylabel(\"F score\")\n",
    "plt.xticks(x, (\"Benchmark Mode\", \" Unoptimized model\", \"Optimized Model\"))\n",
    "plt.yticks(np.arange(0, 1.1, 0.05))\n",
    "\n",
    "plt.show()"
   ]
  },
  {
   "cell_type": "code",
   "execution_count": null,
   "metadata": {},
   "outputs": [
    {
     "data": {
      "text/plain": [
       "9"
      ]
     },
     "execution_count": 48,
     "metadata": {},
     "output_type": "execute_result"
    }
   ],
   "source": [
    "((pd.Series(optimum_predictions)).value_counts())[3]\n"
   ]
  },
  {
   "cell_type": "code",
   "execution_count": null,
   "metadata": {},
   "outputs": [
    {
     "data": {
      "text/plain": [
       "0    240\n",
       "1     79\n",
       "2     17\n",
       "3     10\n",
       "Name: CAR, dtype: int64"
      ]
     },
     "execution_count": 39,
     "metadata": {},
     "output_type": "execute_result"
    }
   ],
   "source": [
    "y_test.value_counts()"
   ]
  },
  {
   "cell_type": "code",
   "execution_count": 21,
   "metadata": {},
   "outputs": [
    {
     "name": "stdout",
     "output_type": "stream",
     "text": [
      "Requirement already satisfied: sklearn in c:\\users\\abdal\\appdata\\local\\programs\\python\\python311\\lib\\site-packages (0.0.post1)\n",
      "Note: you may need to restart the kernel to use updated packages.\n"
     ]
    }
   ],
   "source": []
  },
  {
   "cell_type": "code",
   "execution_count": null,
   "metadata": {},
   "outputs": [
    {
     "data": {
      "image/png": "[encoded data removed]",
      "text/plain": [
       "<matplotlib.figure.Figure at 0x1ee9fea80b8>"
      ]
     },
     "metadata": {},
     "output_type": "display_data"
    }
   ],
   "source": [
    "#Measuring performance of the model with different sample size of the training data\n",
    "\n",
    "from sklearn.metrics import f1_score\n",
    "import matplotlib.pyplot as plt\n",
    "\n",
    "\n",
    "def sample_predictions(sample_size):\n",
    "    optimum_model = DecisionTreeClassifier(criterion = 'entropy', max_depth = 13)\n",
    "    input_sample = X_train[:sample_size]\n",
    "    CAR_sample = y_train[:sample_size]\n",
    "    optimum_model = optimum_model.fit(input_sample,CAR_sample)\n",
    "    sample_predictions = optimum_model.predict(X_test)\n",
    "    sample_score = f1_score(sample_predictions, y_test, average = 'micro')\n",
    "    return sample_score\n",
    "\n",
    "x_values = []\n",
    "y_values = []\n",
    "counter = 100\n",
    "while(counter <=len(CAR)):\n",
    "    x_values.append(counter)\n",
    "    y_values.append(sample_predictions(counter))\n",
    "    counter = counter + 100\n",
    "plt.plot(x_values, y_values)\n",
    "plt.axis([0,2000, 0.8, 1])\n",
    "plt.title(\"F-score vs Number of Training examples\")\n",
    "plt.xlabel(\"Number of Training Examples\")\n",
    "plt.ylabel(\"F-score\")\n",
    "plt.show()"
   ]
  },
  {
   "cell_type": "code",
   "execution_count": null,
   "metadata": {
    "scrolled": true
   },
   "outputs": [
    {
     "data": {
      "image/png": "[encoded data removed]",
      "text/plain": [
       "<matplotlib.figure.Figure at 0x1ee9fc415f8>"
      ]
     },
     "metadata": {},
     "output_type": "display_data"
    }
   ],
   "source": [
    "#Evaluating Feature Importances\n",
    "\n",
    "\n",
    "optimum_model = (DecisionTreeClassifier(random_state = 0, criterion = 'entropy', max_depth = 13)).fit(X_train, y_train)\n",
    "importances = optimum_model.feature_importances_\n",
    "\n",
    "list_of_importances =  list(importances) #Creating the list of importances\n",
    "\n",
    "descending_importances = np.sort(list_of_importances)[::-1] #Sorting in Descending Order\n",
    "first_five_importances = descending_importances[:5] #Extracting the top five Importances\n",
    "\n",
    "column_positions = []\n",
    "for importance in first_five_importances:\n",
    "    column_positions.append(list_of_importances.index(importance)) #Extracting the position of the top five importances in the orginal importance list\n",
    "    \n",
    "#print(column_positions)\n",
    "columns = []\n",
    "for column in column_positions:\n",
    "    columns.append(X_test.columns[column]) #Extracting column names of the first five important\n",
    "    \n",
    "    \n",
    "fig = plt.figure(1, [10, 5])\n",
    "plt.bar(np.arange(5), first_five_importances, width = 0.5, align = 'center')\n",
    "plt.xticks(np.arange(5), columns)\n",
    "plt.yticks(np.arange(0, 0.25, 0.01))\n",
    "plt.title(\"First Five Feature Importances\")\n",
    "plt.xlabel(\"Features\")\n",
    "plt.ylabel(\"Feature Importance / Weight of the feature\")\n",
    "plt.show()\n",
    "    \n",
    "\n",
    "#print(X_test.columns[7])"
   ]
  },
  {
   "cell_type": "markdown",
   "metadata": {},
   "source": [
    "## Conclusion and Improvement Comments\n",
    "\n",
    "The Decision Tree Classifier produced very good results in the beginning  without any optimization. So improving this further was quite challenging and although the final refinement by optimizing the parameters of the model is only by 1.48%, it is quite significant in the overall performance of the model\n",
    "\n",
    "Different combinations of all the features of the Decision Tree Classifier other than max_depth were tried but the performance did not improve and it was getting computationally expensive and taking longer for the grid object to iterate over all the combinations of the parameters. Since there was no improvement in the performance (f-score),all the other features were removed and only max_depth was kept which was significant in improving the performance.\n",
    "\n",
    "It can thought a hard-stop is reached as far hyper-parameter tuning is concerned for this project. Any further improvement in the performance of the model is possible only by collecting more data/examples which can improve the predictions as is clear from the graph of Number of training samples vs F-score where the F-score is continuously increasing and is on the upward trend."
   ]
  }
 ],
 "metadata": {
  "kernelspec": {
   "display_name": "Python 3",
   "language": "python",
   "name": "python3"
  },
  "language_info": {
   "codemirror_mode": {
    "name": "ipython",
    "version": 3
   },
   "file_extension": ".py",
   "mimetype": "text/x-python",
   "name": "python",
   "nbconvert_exporter": "python",
   "pygments_lexer": "ipython3",
   "version": "3.11.1"
  },
  "vscode": {
   "interpreter": {
    "hash": "900badf7b39baa3a6e1c72131c674c173a6b67f6f12a1b90fc88b0bd23eec5c6"
   }
  }
 },
 "nbformat": 4,
 "nbformat_minor": 2
}
